{
 "cells": [
  {
   "cell_type": "markdown",
   "id": "3c97cf4d-0e2f-4f0e-8bbc-35f339c378f3",
   "metadata": {},
   "source": [
    "# ASSIGNMENT 2"
   ]
  },
  {
   "cell_type": "markdown",
   "id": "b68b1128-4c54-4774-8ac9-ac7c35174ad2",
   "metadata": {},
   "source": [
    "### 1.Discuss string slicing and provide examples."
   ]
  },
  {
   "cell_type": "markdown",
   "id": "dec20b2e-ffa2-43dc-bd2d-fc8dcddd60e1",
   "metadata": {},
   "source": [
    " **Slicing:-** \n",
    "It is  a way to get a part of a string,which we call a substring\n",
    "we can also say that it is a extraction of characters from the string.\n",
    "syntax of the slicing is string[start:stop:step]"
   ]
  },
  {
   "cell_type": "code",
   "execution_count": 27,
   "id": "1b764567-b9ee-4f36-837a-5e4b0cfefc63",
   "metadata": {},
   "outputs": [
    {
     "data": {
      "text/plain": [
       "'I am'"
      ]
     },
     "execution_count": 27,
     "metadata": {},
     "output_type": "execute_result"
    }
   ],
   "source": [
    "string1=\"I am a good student\"#space is also counted while indexing\n",
    "\n",
    "string1[0:4]#it basically starts from 0'th positon and goes to 4'th position"
   ]
  },
  {
   "cell_type": "code",
   "execution_count": 6,
   "id": "4dfeeebf-54ca-4d33-8ed3-9159fa3dc1ab",
   "metadata": {},
   "outputs": [
    {
     "data": {
      "text/plain": [
       "'I am a good student'"
      ]
     },
     "execution_count": 6,
     "metadata": {},
     "output_type": "execute_result"
    }
   ],
   "source": [
    "string1[0:]#if we not provide end index then it will give substring till the last index"
   ]
  },
  {
   "cell_type": "code",
   "execution_count": 9,
   "id": "3818b942-0438-41cc-9182-0d61e0ddf6ee",
   "metadata": {},
   "outputs": [
    {
     "data": {
      "text/plain": [
       "'I a'"
      ]
     },
     "execution_count": 9,
     "metadata": {},
     "output_type": "execute_result"
    }
   ],
   "source": [
    "string1[:3]#here it will print the first three strings as the end index"
   ]
  },
  {
   "cell_type": "code",
   "execution_count": 10,
   "id": "20a19385-817f-455c-ab5e-d9fcd13edb52",
   "metadata": {},
   "outputs": [
    {
     "data": {
      "text/plain": [
       "'pwski'"
      ]
     },
     "execution_count": 10,
     "metadata": {},
     "output_type": "execute_result"
    }
   ],
   "source": [
    "#if we want to print all characters except last three then\n",
    "\n",
    "string2=\"pwskills\"\n",
    "\n",
    "string2[:-3]#we have to simple done the end indexing in negative "
   ]
  },
  {
   "cell_type": "code",
   "execution_count": 11,
   "id": "05a73966-25b1-4194-8985-95c3d72e88fb",
   "metadata": {},
   "outputs": [
    {
     "data": {
      "text/plain": [
       "'lls'"
      ]
     },
     "execution_count": 11,
     "metadata": {},
     "output_type": "execute_result"
    }
   ],
   "source": [
    "#if we want only last three characters then\n",
    "\n",
    "string2[-3:]#we have to give start index as -3 "
   ]
  },
  {
   "cell_type": "code",
   "execution_count": 13,
   "id": "5acd56e7-de28-47f2-b9c4-ea3c1755bc9d",
   "metadata": {},
   "outputs": [
    {
     "data": {
      "text/plain": [
       "'hlo'"
      ]
     },
     "execution_count": 13,
     "metadata": {},
     "output_type": "execute_result"
    }
   ],
   "source": [
    "#if we want stepping the character then\n",
    "\n",
    "string3=\"hello\"\n",
    "\n",
    "string3[0:5:2]#here we have done the stepping in the character "
   ]
  },
  {
   "cell_type": "code",
   "execution_count": 14,
   "id": "3430facc-4a4a-4313-84e5-089a94aecafc",
   "metadata": {},
   "outputs": [
    {
     "data": {
      "text/plain": [
       "'olleh'"
      ]
     },
     "execution_count": 14,
     "metadata": {},
     "output_type": "execute_result"
    }
   ],
   "source": [
    "string3[::-1]#it will iterate the character in the reverse order"
   ]
  },
  {
   "cell_type": "markdown",
   "id": "795e9eaa-f587-4b3d-87c2-a91ba7bf667d",
   "metadata": {},
   "source": [
    "### 2.Explain the key features of List in Python."
   ]
  },
  {
   "cell_type": "markdown",
   "id": "a9f96a52-f060-4b6a-8360-b371e94c61c0",
   "metadata": {},
   "source": [
    "**List:-** \n",
    "- It is a mutable,which means we can do the modification in the list.\n",
    "- heterogenous, which means we can store many types  datatypes of element in a single list\n",
    "\n",
    "features of the list are as follows:-"
   ]
  },
  {
   "cell_type": "markdown",
   "id": "24555d07-abda-4fe9-9108-9b4a21bcd8e9",
   "metadata": {},
   "source": [
    "1. Ordered:- \n",
    "Lists in Python are ordered. This means that the items in a list appear in a specific order. If you add new items to a list, the new items will be placed at the end of the list"
   ]
  },
  {
   "cell_type": "code",
   "execution_count": 17,
   "id": "7539f83a-e318-47ba-84d3-da8771426fd3",
   "metadata": {},
   "outputs": [
    {
     "name": "stdout",
     "output_type": "stream",
     "text": [
      "[1, 2, 3.5, True, (2+3j), 'Apple']\n"
     ]
    }
   ],
   "source": [
    "list1=[1,2,3.5,True,2+3j,'Apple']\n",
    "print(list1)"
   ]
  },
  {
   "cell_type": "code",
   "execution_count": 20,
   "id": "b4f00798-aad8-48dd-b7a3-be4ba63bdbe9",
   "metadata": {},
   "outputs": [
    {
     "name": "stdout",
     "output_type": "stream",
     "text": [
      "[1, 2, 3.5, True, (2+3j), 'Apple', 'Baingan', 'Baingan']\n"
     ]
    }
   ],
   "source": [
    "#if we want to add new item in the list the\n",
    "\n",
    "list1.append('Baingan')#by the append() we can add new items in the list\n",
    "print(list1)"
   ]
  },
  {
   "cell_type": "markdown",
   "id": "275f8bfc-920c-4914-b3b7-6b57ff191d7b",
   "metadata": {},
   "source": [
    "we can see that 'baingan' is placed at the end of the list"
   ]
  },
  {
   "cell_type": "markdown",
   "id": "f60e31fc-b193-4b97-94cc-a6ae1ed04c99",
   "metadata": {},
   "source": [
    "2. Contain Any Arbitrary Objects:-Lists can contain any type of objects, such as integers, strings, and even other lists1. This makes lists very flexible."
   ]
  },
  {
   "cell_type": "code",
   "execution_count": 21,
   "id": "b2a568b6-bef2-4832-9f0f-0253dd034e03",
   "metadata": {},
   "outputs": [
    {
     "name": "stdout",
     "output_type": "stream",
     "text": [
      "[1, 2, 3.5, True, (2+3j), 'Apple', 'Baingan', 'Baingan']\n"
     ]
    }
   ],
   "source": [
    "print(list1)"
   ]
  },
  {
   "cell_type": "markdown",
   "id": "e7c2e951-8a4d-475f-a207-cd1ea22c3e8b",
   "metadata": {},
   "source": [
    "we can see that various types of datatype of objects are stored in the list "
   ]
  },
  {
   "cell_type": "markdown",
   "id": "0702e3c8-1ba7-4d97-aaab-54cc10656c80",
   "metadata": {},
   "source": [
    "3. Accessed by Index:- Each item in a list has an index, which is its position in the list. List indices start at 0, so the first item in a list is at index."
   ]
  },
  {
   "cell_type": "code",
   "execution_count": 22,
   "id": "64e4dac6-6a3f-443d-a3b4-29711246f6b7",
   "metadata": {},
   "outputs": [
    {
     "data": {
      "text/plain": [
       "True"
      ]
     },
     "execution_count": 22,
     "metadata": {},
     "output_type": "execute_result"
    }
   ],
   "source": [
    "#for accessing the items of the list we use the indexing.Each and every item have thier index value\n",
    "list1[3]"
   ]
  },
  {
   "cell_type": "markdown",
   "id": "afee0aca-3ad1-475c-b677-ea051ea61e4b",
   "metadata": {},
   "source": [
    "True have the index value of 3 so thats why we accessed the True"
   ]
  },
  {
   "cell_type": "markdown",
   "id": "88e7f6e1-178a-488f-9cd0-21f90ab660ee",
   "metadata": {},
   "source": [
    "4. Mutable: Lists are mutable, which means you can change their content without changing their identity. You can modify a list by adding, removing, or changing items."
   ]
  },
  {
   "cell_type": "code",
   "execution_count": 23,
   "id": "3dd08833-c829-42ed-a8b3-1c05569cce2a",
   "metadata": {},
   "outputs": [
    {
     "name": "stdout",
     "output_type": "stream",
     "text": [
      "[1, 2, 3.5, True, (2+3j), 'Apple', 'Baingan', 'Baingan']\n"
     ]
    }
   ],
   "source": [
    "print(list1)"
   ]
  },
  {
   "cell_type": "code",
   "execution_count": 25,
   "id": "fdd2a03d-4cbe-49f7-b250-183d8bca0984",
   "metadata": {},
   "outputs": [
    {
     "name": "stdout",
     "output_type": "stream",
     "text": [
      "[1, 2, 3.5, True, (2+3j), 'Mango', 'Baingan', 'Baingan']\n"
     ]
    }
   ],
   "source": [
    "#if we want to replae 'Apple' with the 'Mango' the\n",
    "list1[5]='Mango'\n",
    "print(list1)"
   ]
  },
  {
   "cell_type": "markdown",
   "id": "2a909c8b-9c1b-4121-8237-b55599cb0df2",
   "metadata": {},
   "source": [
    "we can see that 'Apple' is replaced by 'Mango'"
   ]
  },
  {
   "cell_type": "markdown",
   "id": "41123319-3abf-444c-92a0-766b6070ed3d",
   "metadata": {},
   "source": [
    "### 3.Describe how to access,modify and delete elements in a list with examples"
   ]
  },
  {
   "cell_type": "markdown",
   "id": "882b9f30-83ac-423e-acc1-b2a82706cb3b",
   "metadata": {},
   "source": [
    "**list**:- Is a mutable data structure so that's why we can easily access , modify and delete the elements of the list "
   ]
  },
  {
   "cell_type": "code",
   "execution_count": 26,
   "id": "8fa76405-f60e-4ba3-ad60-9ac76479e610",
   "metadata": {},
   "outputs": [
    {
     "name": "stdout",
     "output_type": "stream",
     "text": [
      "['Mahendra', 'Sumit', 'Vinod', 'Raghav', 'Suresh']\n"
     ]
    }
   ],
   "source": [
    "list2=['Mahendra','Sumit','Vinod','Raghav','Suresh']\n",
    "print(list2)"
   ]
  },
  {
   "cell_type": "markdown",
   "id": "5d69d30e-12ca-4385-97ba-83eb17fbf677",
   "metadata": {},
   "source": [
    "we can see that there are five elements are there in the list2\n",
    "so,the indexing start from 0 in the list2 and at the 0'th position there is 'Mahendra'.\n",
    "In the end position there is 'Suresh'.\n",
    "we can access the elements according to the indexing number of the element"
   ]
  },
  {
   "cell_type": "markdown",
   "id": "4dc570ed-b983-476c-8270-db555d01cd9a",
   "metadata": {},
   "source": [
    "1. Access:- we can access the element by the index values."
   ]
  },
  {
   "cell_type": "code",
   "execution_count": 28,
   "id": "c88ce326-1239-4524-b876-bd6696b3241c",
   "metadata": {},
   "outputs": [
    {
     "data": {
      "text/plain": [
       "'Vinod'"
      ]
     },
     "execution_count": 28,
     "metadata": {},
     "output_type": "execute_result"
    }
   ],
   "source": [
    "#we want to access the 'vinod' .index value of 'vinod' is 2\n",
    "list2[2]"
   ]
  },
  {
   "cell_type": "code",
   "execution_count": 29,
   "id": "95309d37-4c91-4ee4-853b-2cb22e987f77",
   "metadata": {},
   "outputs": [
    {
     "data": {
      "text/plain": [
       "'Suresh'"
      ]
     },
     "execution_count": 29,
     "metadata": {},
     "output_type": "execute_result"
    }
   ],
   "source": [
    "#we want to access the 'suresh' then\n",
    "list2[-1]"
   ]
  },
  {
   "cell_type": "markdown",
   "id": "a9b6747e-6979-4fd4-9c98-e73ea6be31c1",
   "metadata": {},
   "source": [
    "2. Modification:-we can modify the elements of the list easily by the different types of functions.\n"
   ]
  },
  {
   "cell_type": "code",
   "execution_count": 32,
   "id": "fccfc53e-1a4e-42c8-a297-f9088b546ee8",
   "metadata": {},
   "outputs": [
    {
     "name": "stdout",
     "output_type": "stream",
     "text": [
      "['Mahendra', 'Monty', 'Vinod', 'Raghav', 'Suresh']\n"
     ]
    }
   ],
   "source": [
    "#we can also replace the one element to the other \n",
    "list2[1]='Monty'\n",
    "print(list2)"
   ]
  },
  {
   "cell_type": "markdown",
   "id": "9ea9e5ce-e6fa-4569-9114-b84740771273",
   "metadata": {},
   "source": [
    "we can see that 'Sumit' is replaced by the 'Monty'"
   ]
  },
  {
   "cell_type": "code",
   "execution_count": 30,
   "id": "fbe4730f-f60c-4a1f-bca6-9774112fd552",
   "metadata": {},
   "outputs": [
    {
     "name": "stdout",
     "output_type": "stream",
     "text": [
      "['Mahendra', 'Sumit', 'Vinod', 'Raghav', 'Suresh', 'Vaibhav']\n"
     ]
    }
   ],
   "source": [
    "#by the append() we used to add the new element in the list\n",
    "list2.append('Vaibhav')\n",
    "print(list2)"
   ]
  },
  {
   "cell_type": "markdown",
   "id": "6bd8516a-64b1-42c0-9d4c-f598c0d62217",
   "metadata": {},
   "source": [
    "we can see that 'Vaibhav' is added in the list2 by append()"
   ]
  },
  {
   "cell_type": "markdown",
   "id": "4c1c16a9-3d2b-40ad-9b75-bd766787b48f",
   "metadata": {},
   "source": [
    "3. Delete:-we can delete the elements in the list by remove()."
   ]
  },
  {
   "cell_type": "code",
   "execution_count": 33,
   "id": "07e35aa0-68e4-4d44-8c3b-b538a650e96d",
   "metadata": {},
   "outputs": [
    {
     "name": "stdout",
     "output_type": "stream",
     "text": [
      "['Monty', 'Vinod', 'Raghav', 'Suresh']\n"
     ]
    }
   ],
   "source": [
    "list2.remove('Mahendra')\n",
    "print(list2)"
   ]
  },
  {
   "cell_type": "markdown",
   "id": "58c2533b-4a47-4a11-b5ef-0619c2862bcc",
   "metadata": {},
   "source": [
    "here,we can see that 'Mahendra' is deleted from the list"
   ]
  },
  {
   "cell_type": "markdown",
   "id": "bc4963e0-210a-4ef1-b027-508af316d3ba",
   "metadata": {},
   "source": [
    "### 4.Compare and contrast tuples and lists with example"
   ]
  },
  {
   "cell_type": "markdown",
   "id": "99275e38-6d2e-44f3-b94a-e803d4ab0d92",
   "metadata": {},
   "source": [
    "Lists and tuples are both types of sequences in Python. They can store multiple items in an ordered sequence\n",
    "Here are some key differences and similarities between lists and tuples:\n",
    "- Mutable vs Immutable: Lists are mutable, which means you can change their content. Tuples are immutable, which means you can’t change them once they’re created. \n",
    "- Syntax: Lists are surrounded by square brackets [], and tuples are surrounded by parentheses ().\n",
    "- Memory Usage: Tuples use less memory than lists1. This is because tuples don’t need extra space to add or remove items.\n",
    "- Performance: Tuples are generally faster than lists, especially when you’re just looking up values."
   ]
  },
  {
   "cell_type": "code",
   "execution_count": 34,
   "id": "2e04197c-2c48-4f92-8114-b34ef45974cb",
   "metadata": {},
   "outputs": [
    {
     "name": "stdout",
     "output_type": "stream",
     "text": [
      "['biscuts', 'cakes', 'shakes', 'drinks', 'donuts']\n"
     ]
    }
   ],
   "source": [
    "list3=['biscuts','cakes','shakes','drinks','donuts']\n",
    "print(list3)"
   ]
  },
  {
   "cell_type": "markdown",
   "id": "4b28349b-9516-4af3-a010-d3a05f166858",
   "metadata": {},
   "source": [
    "Is is a list of bakery items."
   ]
  },
  {
   "cell_type": "code",
   "execution_count": 35,
   "id": "f189f7a2-eaa5-4d7e-a776-fc3f346b6e2f",
   "metadata": {},
   "outputs": [
    {
     "name": "stdout",
     "output_type": "stream",
     "text": [
      "['biscuts', 'faluda', 'shakes', 'drinks', 'donuts']\n"
     ]
    }
   ],
   "source": [
    "#we can also modify the items of the list\n",
    "list3[1]='faluda'\n",
    "print(list3)"
   ]
  },
  {
   "cell_type": "code",
   "execution_count": 36,
   "id": "bc7065e2-2a0b-4151-809b-711771f4321f",
   "metadata": {},
   "outputs": [
    {
     "name": "stdout",
     "output_type": "stream",
     "text": [
      "('burger', 'noodles', 'pizza', 'manchurian')\n"
     ]
    }
   ],
   "source": [
    "tuple=('burger','noodles','pizza','manchurian')\n",
    "print(tuple)"
   ]
  },
  {
   "cell_type": "code",
   "execution_count": 37,
   "id": "bcf78296-0dd0-46c0-aab8-38edea0de0f8",
   "metadata": {},
   "outputs": [
    {
     "ename": "TypeError",
     "evalue": "'tuple' object does not support item assignment",
     "output_type": "error",
     "traceback": [
      "\u001b[0;31m---------------------------------------------------------------------------\u001b[0m",
      "\u001b[0;31mTypeError\u001b[0m                                 Traceback (most recent call last)",
      "Cell \u001b[0;32mIn[37], line 1\u001b[0m\n\u001b[0;32m----> 1\u001b[0m \u001b[38;5;28;43mtuple\u001b[39;49m\u001b[43m[\u001b[49m\u001b[38;5;241;43m0\u001b[39;49m\u001b[43m]\u001b[49m\u001b[38;5;241m=\u001b[39m\u001b[38;5;124m'\u001b[39m\u001b[38;5;124msandwich\u001b[39m\u001b[38;5;124m'\u001b[39m\n",
      "\u001b[0;31mTypeError\u001b[0m: 'tuple' object does not support item assignment"
     ]
    }
   ],
   "source": [
    "tuple[0]='sandwich'"
   ]
  },
  {
   "cell_type": "markdown",
   "id": "7ee4252e-7b7f-4946-89f7-a18c947c54f3",
   "metadata": {},
   "source": [
    "here, we can see that if we want to modify the tuple then it shows the error"
   ]
  },
  {
   "cell_type": "markdown",
   "id": "02795ff9-1058-41a7-b91a-a8fffb2eb959",
   "metadata": {},
   "source": [
    "### 5.Describe the key features of sets and provide example of their use."
   ]
  },
  {
   "cell_type": "markdown",
   "id": "a34f102c-3e23-4c89-aa5a-921dade2ed36",
   "metadata": {},
   "source": [
    "1. Unordered:- Sets in Python are unordered. This means that the items in a set do not have a defined order.Set items can appear in a different order every time you use them, and cannot be referred to by index or key."
   ]
  },
  {
   "cell_type": "code",
   "execution_count": 1,
   "id": "f6acbc2f-a702-4632-b0bd-86ee7eae969a",
   "metadata": {},
   "outputs": [
    {
     "name": "stdout",
     "output_type": "stream",
     "text": [
      "{'apple', 'banana', 'mango', 'guava'}\n"
     ]
    }
   ],
   "source": [
    "set1={\"banana\",\"mango\",\"apple\",\"guava\"}\n",
    "print(set1)"
   ]
  },
  {
   "cell_type": "markdown",
   "id": "649530c3-fa16-47f7-92c3-87c2644337ef",
   "metadata": {},
   "source": [
    "here we can see that, elements of the sets are printed in the alphabetical order,but when we have make the variable then it is in unordered form"
   ]
  },
  {
   "cell_type": "markdown",
   "id": "c063e076-db44-473e-8560-e0169a4d9d8e",
   "metadata": {},
   "source": [
    "2. Unique Elements: Each element in a set is unique, with no duplicates allowed . This means that if you try to add an element that is already in the set, Python will ignore it."
   ]
  },
  {
   "cell_type": "code",
   "execution_count": 2,
   "id": "82cfa358-99ea-49d7-b2de-8e2af66c18f5",
   "metadata": {},
   "outputs": [
    {
     "name": "stdout",
     "output_type": "stream",
     "text": [
      "{'apple', 'banana', 'mango', 'guava'}\n"
     ]
    }
   ],
   "source": [
    "set1.add(\"banana\")\n",
    "print(set1)"
   ]
  },
  {
   "cell_type": "markdown",
   "id": "1fba5db6-a222-407b-9046-6bbf36cad799",
   "metadata": {},
   "source": [
    "here, we can see that banana is already exist in the set1 so, if we add one more banana in the set1 the python has ignore it "
   ]
  },
  {
   "cell_type": "markdown",
   "id": "ddea4968-c418-48b0-8c21-f6ae3151017f",
   "metadata": {},
   "source": [
    "3. Mutable: Sets are mutable, meaning you can add or remove elements after the set has been created."
   ]
  },
  {
   "cell_type": "code",
   "execution_count": 3,
   "id": "a3e651ef-602e-46ef-9696-c2cdcc06291f",
   "metadata": {},
   "outputs": [
    {
     "name": "stdout",
     "output_type": "stream",
     "text": [
      "{'banana', 'guava', 'mango', 'papaya', 'apple'}\n"
     ]
    }
   ],
   "source": [
    "set1.add(\"papaya\")\n",
    "print(set1)"
   ]
  },
  {
   "cell_type": "markdown",
   "id": "e7a7813a-b22f-4ed5-9be1-d83eb36fa015",
   "metadata": {},
   "source": [
    "here we can see that 'papaya' has been added in the set1 "
   ]
  },
  {
   "cell_type": "code",
   "execution_count": 4,
   "id": "0dd8f4a7-25d6-45b6-a5d9-7aa3e5b2dfbb",
   "metadata": {},
   "outputs": [
    {
     "name": "stdout",
     "output_type": "stream",
     "text": [
      "{'banana', 'guava', 'mango', 'apple'}\n"
     ]
    }
   ],
   "source": [
    "set1.remove(\"papaya\")\n",
    "print(set1)"
   ]
  },
  {
   "cell_type": "raw",
   "id": "4b70d571-a916-44b9-96ad-516f314be501",
   "metadata": {},
   "source": [
    "here,we can see that 'papaya' is been remove from the set1"
   ]
  },
  {
   "cell_type": "markdown",
   "id": "3759320b-4a15-4450-8c7c-f6e29220ec53",
   "metadata": {},
   "source": [
    "4. Supports Mathematical Operations: Sets in Python support mathematical operations like union, intersection, difference, and symmetric difference."
   ]
  },
  {
   "cell_type": "code",
   "execution_count": 10,
   "id": "29360ca4-0685-4e30-84fe-804a2c0121f3",
   "metadata": {},
   "outputs": [
    {
     "name": "stdout",
     "output_type": "stream",
     "text": [
      "{'cherry', 'biscuit', 'cream roll', 'banana', 'pastry', 'apple', 'pomgranates', 'cakes'}\n"
     ]
    }
   ],
   "source": [
    "set1={\"biscuit\",\"cream roll\",\"pastry\",\"cakes\"}\n",
    "set2={\"banana\",\"apple\",\"cherry\",\"pomgranates\"}\n",
    "set3=set1.union(set2)\n",
    "print(set3)"
   ]
  },
  {
   "cell_type": "markdown",
   "id": "12fcac16-eca6-46a3-9cad-99448c2e28cf",
   "metadata": {},
   "source": [
    "here,we can see that how we have performend the union by union() between set1 and set2"
   ]
  },
  {
   "cell_type": "markdown",
   "id": "5582be62-9c73-4b08-8190-9a03a3295d94",
   "metadata": {},
   "source": [
    "### 6.Discuss the use cases of tuple and sets in python programming."
   ]
  },
  {
   "cell_type": "markdown",
   "id": "0f78bd76-9a5f-4300-88f0-2b24787253be",
   "metadata": {},
   "source": [
    "**Tuple**\n",
    "- Tuples are used to store multiple items in a single variable. They are ordered and immutable.\n",
    "- Tuples are often used in situations where you need to store heterogeneous data, like that in a database record.\n",
    "- They are also used to insert records in the database through SQL query at a time.\n",
    "- Tuples are preferred when we need to deal with a fixed data type."
   ]
  },
  {
   "cell_type": "code",
   "execution_count": 12,
   "id": "9aeaeb70-ad7a-40f7-9480-0d16193ffec8",
   "metadata": {},
   "outputs": [
    {
     "name": "stdout",
     "output_type": "stream",
     "text": [
      "apple\n"
     ]
    }
   ],
   "source": [
    "# Creating a tuple\n",
    "my_tuple = (\"apple\", \"banana\", \"cherry\")\n",
    "\n",
    "# Accessing items\n",
    "print(my_tuple[0]) \n"
   ]
  },
  {
   "cell_type": "markdown",
   "id": "6ccc4343-8383-411f-8f2b-881c35019681",
   "metadata": {},
   "source": [
    "**Sets**\n",
    "- Sets in Python are an unordered collection of unique elements.\n",
    "- One of the main practical applications of Python sets is to return a list of unique values from any Python sequence, such as a list or tuple.\n",
    "- They are often used for finding unique elements and performing join operations.\n",
    "- Sets are also used when you want to store multiple items in a single variable, but you don’t care about their order, and you want to ensure that there are no duplicates."
   ]
  },
  {
   "cell_type": "code",
   "execution_count": 14,
   "id": "c0373ef8-e460-4106-bb1b-7ab77577e12e",
   "metadata": {},
   "outputs": [
    {
     "name": "stdout",
     "output_type": "stream",
     "text": [
      "{'apple', 'cherry', 'orange', 'banana'}\n"
     ]
    }
   ],
   "source": [
    "# Creating a set\n",
    "fruits = {\"apple\", \"banana\", \"cherry\"}\n",
    "\n",
    "# Adding an element to the set\n",
    "fruits.add(\"orange\")\n",
    "print(fruits)"
   ]
  },
  {
   "cell_type": "markdown",
   "id": "2a03c1f1-597a-477d-9179-c2c6646f563e",
   "metadata": {},
   "source": [
    "we can see that orange is added in the set"
   ]
  },
  {
   "cell_type": "code",
   "execution_count": 15,
   "id": "46cfb2f9-e512-4909-bc9b-8ecc64acc062",
   "metadata": {},
   "outputs": [
    {
     "name": "stdout",
     "output_type": "stream",
     "text": [
      "True\n"
     ]
    }
   ],
   "source": [
    "print(\"banana\" in fruits)"
   ]
  },
  {
   "cell_type": "markdown",
   "id": "ae84695d-d72b-4e6b-89b9-67c5c25bf625",
   "metadata": {},
   "source": [
    "### 7.Describe how to add,modify and delete items in a Dictonary with examples."
   ]
  },
  {
   "cell_type": "markdown",
   "id": "3a2d0fc3-1645-4f43-9916-ab5f88d60852",
   "metadata": {},
   "source": [
    "1. Adding Items:- You can add an item to a dictionary by using a new key and assigning a value to it."
   ]
  },
  {
   "cell_type": "code",
   "execution_count": 16,
   "id": "1e2ad19a-a87b-4b25-837a-b0f01fbcdd34",
   "metadata": {},
   "outputs": [
    {
     "name": "stdout",
     "output_type": "stream",
     "text": [
      "{'apple': 1, 'banana': 2, 'cherry': 3}\n"
     ]
    }
   ],
   "source": [
    "my_dict = {\"apple\": 1, \"banana\": 2}\n",
    "my_dict[\"cherry\"] = 3\n",
    "print(my_dict)  "
   ]
  },
  {
   "cell_type": "markdown",
   "id": "40431ca4-5dae-4974-8654-b0954368e19a",
   "metadata": {},
   "source": [
    "here, we can see that 'cherry' is added in the dictonary."
   ]
  },
  {
   "cell_type": "markdown",
   "id": "0793a035-ed9d-49a0-9d38-a32989eadfdb",
   "metadata": {},
   "source": [
    "2. Modifying Items: You can modify an item in a dictionary by referring to its key name."
   ]
  },
  {
   "cell_type": "code",
   "execution_count": 17,
   "id": "6b1c0f7a-8e0b-470a-8391-b2f5ef63ac1c",
   "metadata": {},
   "outputs": [
    {
     "name": "stdout",
     "output_type": "stream",
     "text": [
      "{'apple': 4, 'banana': 2}\n"
     ]
    }
   ],
   "source": [
    "my_dict = {\"apple\": 1, \"banana\": 2}\n",
    "my_dict[\"apple\"] = 4\n",
    "print(my_dict) "
   ]
  },
  {
   "cell_type": "markdown",
   "id": "34397419-1f40-4e61-8558-5f6563c3f138",
   "metadata": {},
   "source": [
    "here, we can see that value of 'apple' is changed 1 to 4"
   ]
  },
  {
   "cell_type": "markdown",
   "id": "ab1c67e0-325e-4ece-ac2a-2a835691a621",
   "metadata": {},
   "source": [
    "3. Deleting Items: You can delete an item from a dictionary using the del keyword."
   ]
  },
  {
   "cell_type": "code",
   "execution_count": 18,
   "id": "5cfe1741-0f8f-4b86-a5d1-576ce9b04d28",
   "metadata": {},
   "outputs": [
    {
     "name": "stdout",
     "output_type": "stream",
     "text": [
      "{'banana': 2}\n"
     ]
    }
   ],
   "source": [
    "my_dict = {\"apple\": 1, \"banana\": 2}\n",
    "del my_dict[\"apple\"]\n",
    "print(my_dict)  "
   ]
  },
  {
   "cell_type": "markdown",
   "id": "ff2c0742-3343-467b-838e-ea78dee872f7",
   "metadata": {},
   "source": [
    "here, we can see that 'apple' is deleted from the dictonary"
   ]
  },
  {
   "cell_type": "markdown",
   "id": "181194d1-117b-4b8f-90ed-aa54d758b981",
   "metadata": {},
   "source": [
    "### 8.Discuss the importance of dictonary keys being immutable and provide examples."
   ]
  },
  {
   "cell_type": "markdown",
   "id": "6c80fced-b212-4db5-b873-bc906eb3734f",
   "metadata": {},
   "source": [
    "Dictionaries are a flexible data type in Python, allowing for a wide range of values to be used as keys and values. However, there are certain restrictions that must be adhered to when working with dictionary keys."
   ]
  },
  {
   "cell_type": "markdown",
   "id": "01b2165e-2b79-4f00-a76e-da74d362361a",
   "metadata": {},
   "source": [
    "**Unique Keys**\n",
    "\n",
    "A dictionary key must be unique. This means that a given key can only appear once in a dictionary. If you attempt to specify a key that already exists in the dictionary, the new value will override the existing one."
   ]
  },
  {
   "cell_type": "markdown",
   "id": "5378ffb1-d8d5-4c71-ad8d-cd9c58fe37f2",
   "metadata": {},
   "source": [
    "**Immutable key types**\n",
    "\n",
    "In addition to being unique, dictionary keys must be of an immutable type. This means that the key cannot be changed after it is created. Immutable types include integers, floats, strings, and Booleans. Even tuples can be used as keys. However, lists and other dictionaries, which are mutable, cannot be used as dictionary keys."
   ]
  },
  {
   "cell_type": "code",
   "execution_count": 20,
   "id": "7b632f21-5f57-4e7d-b871-46a1163b3285",
   "metadata": {},
   "outputs": [
    {
     "name": "stdout",
     "output_type": "stream",
     "text": [
      "Cannot use a list as a dictionary key!\n"
     ]
    }
   ],
   "source": [
    "# Creating a dictionary with an immutable key (a string)\n",
    "my_dict = {\"apple\": 1}\n",
    "\n",
    "# Trying to use a mutable key (a list)\n",
    "my_list = [\"banana\"]\n",
    "try:\n",
    "    my_dict[my_list] = 2\n",
    "except TypeError:\n",
    "    print(\"Cannot use a list as a dictionary key!\")\n"
   ]
  }
 ],
 "metadata": {
  "kernelspec": {
   "display_name": "Python 3 (ipykernel)",
   "language": "python",
   "name": "python3"
  },
  "language_info": {
   "codemirror_mode": {
    "name": "ipython",
    "version": 3
   },
   "file_extension": ".py",
   "mimetype": "text/x-python",
   "name": "python",
   "nbconvert_exporter": "python",
   "pygments_lexer": "ipython3",
   "version": "3.10.8"
  }
 },
 "nbformat": 4,
 "nbformat_minor": 5
}
